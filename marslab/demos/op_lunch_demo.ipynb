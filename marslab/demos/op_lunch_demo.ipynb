{
 "cells": [
  {
   "cell_type": "code",
   "execution_count": null,
   "id": "5e36607a",
   "metadata": {
    "pycharm": {
     "name": "#%%\n"
    }
   },
   "outputs": [],
   "source": [
    "import re\n",
    "from copy import deepcopy\n",
    "from functools import partial\n",
    "from operator import add, mul\n",
    "\n",
    "import matplotlib as mpl\n",
    "import matplotlib.pyplot as plt\n",
    "import numpy as np\n",
    "import pandas as pd\n",
    "from dustgoggles.composition import Composition\n",
    "from fs.osfs import OSFS\n",
    "from scipy.ndimage import gaussian_filter\n",
    "\n",
    "from marslab.compat.clementine import MOSAIC_SPECIAL_CONSTANTS\n",
    "from marslab.bandset.clementine import ClemBandSet\n",
    "import marslab.extras.cmaps\n",
    "from marslab.demos.config import gen_spectop_defaults\n",
    "from marslab.bandset.mastcam import (\n",
    "    bulk_scrape_mcam_metadata, parse_mcam_files, McamBandSet\n",
    ")\n",
    "from marslab.bandset import ImageBands\n",
    "from marslab.imgops.imgutils import std_clip, normalize_range\n",
    "from marslab.imgops.look import Look\n",
    "from marslab.imgops.render import colormapped_plot, simple_figure\n",
    "\n",
    "rng = np.random.default_rng()\n",
    "c = partial(plt.close, 'all')\n",
    "\n",
    "mpl.rcParams['image.cmap'] = 'Greys_r'\n",
    "mpl.rcParams['figure.figsize'] = [15, 15]\n",
    "\n",
    "%matplotlib qt"
   ]
  },
  {
   "cell_type": "code",
   "execution_count": null,
   "id": "fa63ff5b",
   "metadata": {
    "pycharm": {
     "name": "#%%\n"
    }
   },
   "outputs": [],
   "source": [
    "# demo data is stashed here:\n",
    "# https://drive.google.com/drive/folders/1dDkgof792KGqnO3g_qkZJ5aZXJc0MHwI\n",
    "\n",
    "# define which files we're grabbing\n",
    "mcam_data = OSFS('/home/michael/Desktop/mcam_data')\n",
    "seq_id = 13201\n",
    "caltype = 'DRXX'\n",
    "search = partial(re.search, f'{seq_id}.*{caltype}.*LBL')\n",
    "results = tuple(\n",
    "    map(mcam_data.getsyspath, filter(search, mcam_data.listdir('')))\n",
    ")\n",
    "results "
   ]
  },
  {
   "cell_type": "code",
   "execution_count": null,
   "id": "b5365ca1",
   "metadata": {},
   "outputs": [],
   "source": [
    "c()"
   ]
  },
  {
   "cell_type": "code",
   "execution_count": null,
   "id": "7fd14b42",
   "metadata": {
    "pycharm": {
     "name": "#%%\n"
    }
   },
   "outputs": [],
   "source": [
    "info = pd.concat([\n",
    "    # little text-and-filename parsing functions\n",
    "    pd.DataFrame(parse_mcam_files(results)),\n",
    "    pd.DataFrame(bulk_scrape_mcam_metadata(results))\n",
    "], axis=1)\n",
    "info[\"PATH\"] = results\n",
    "info[\"PATH\"] = info[\"PATH\"].str.replace(\"LBL\", \"IMG\")\n",
    "info = info.sort_values(by='CSEQ').reset_index(drop=True)\n",
    "# this sequence begins with a full spin of the right-eye filters before\n",
    "# the stereo images we're interested in, so we cut command sequence < 8.\n",
    "info = info.loc[info['CSEQ'] >= 8].reset_index(drop=True)\n",
    "info"
   ]
  },
  {
   "cell_type": "code",
   "execution_count": null,
   "id": "5b9e9a28",
   "metadata": {
    "pycharm": {
     "name": "#%%\n"
    }
   },
   "outputs": [],
   "source": [
    "# construct the marslab.imgops.bandset.BandSet object.\n",
    "# some specific behaviors are defined on McamBandSet, \n",
    "# which references some contents from marslab.compat.xcam \n",
    "\n",
    "observation = McamBandSet(info)\n",
    "# 'metadata' is a DataFrame. important columns include:\n",
    "# BAND -- human-readable name of the band\n",
    "# IX -- index of the band within a file \n",
    "# (no value implies single-band files or a mistake)\n",
    "observation.metadata"
   ]
  },
  {
   "cell_type": "code",
   "execution_count": null,
   "id": "319ccdc1",
   "metadata": {
    "pycharm": {
     "name": "#%%\n"
    }
   },
   "outputs": [],
   "source": [
    "# pdr_load() leverages pdr to get info from PDS labels. \n",
    "# applies scale and offset found in labels by default.\n",
    "observation.load_method"
   ]
  },
  {
   "cell_type": "code",
   "execution_count": null,
   "id": "170e7919",
   "metadata": {
    "pycharm": {
     "name": "#%%\n"
    }
   },
   "outputs": [],
   "source": [
    "observation.load('all')\n",
    "\n",
    "# raw images are a dict of str: ndarray\n",
    "observation.raw.keys()"
   ]
  },
  {
   "cell_type": "code",
   "execution_count": null,
   "id": "1e70f27b",
   "metadata": {
    "pycharm": {
     "name": "#%%\n"
    }
   },
   "outputs": [],
   "source": [
    "# some filters fall within the bandpasses of the camera's bayer array\n",
    "plt.imshow(observation.raw['L2'])"
   ]
  },
  {
   "cell_type": "code",
   "execution_count": null,
   "id": "ac762b03",
   "metadata": {
    "pycharm": {
     "name": "#%%\n"
    }
   },
   "outputs": [],
   "source": [
    "observation.metadata[['BAND', 'BAYER_PIXEL']]"
   ]
  },
  {
   "cell_type": "code",
   "execution_count": null,
   "id": "bbec59bd",
   "metadata": {
    "pycharm": {
     "name": "#%%\n"
    }
   },
   "outputs": [],
   "source": [
    "observation.bayer_info"
   ]
  },
  {
   "cell_type": "code",
   "execution_count": null,
   "id": "9580a2b4",
   "metadata": {
    "pycharm": {
     "name": "#%%\n"
    }
   },
   "outputs": [],
   "source": [
    "# debayer all images and place in observation.debayered\n",
    "observation.bulk_debayer('all')\n",
    "# pick 'correct' version of image\n",
    "plt.imshow(observation.get_band('L2'))"
   ]
  },
  {
   "cell_type": "code",
   "execution_count": null,
   "id": "ab0c2d26",
   "metadata": {
    "pycharm": {
     "name": "#%%\n"
    }
   },
   "outputs": [],
   "source": [
    "# image types commonly used in MCAM publications: \n",
    "# parameter map of band depth at 527 nm, 'natural color' through the clear filter,\n",
    "# and a decorrelation stretch  (simple dimensionality reduction)\n",
    "\n",
    "bd527 = {'look': 'band_depth', 'bands': ('L2', 'L4', 'L1'), 'name':'bd527'}\n",
    "dcs = {\n",
    "    'name': 'exciting dcs',\n",
    "    'look': 'dcs', \n",
    "    'bands': ('L3', 'L1', 'L2'), \n",
    "    'params': {'contrast_stretch': 0.9, 'sigma': None}\n",
    "}\n",
    "natural = {\n",
    "    'name': 'natural color',\n",
    "    'look': 'composite', \n",
    "    'prefilter': {'function': normalize_range}, \n",
    "    'bands': ('L0R', 'L0G', 'L0B')\n",
    "}"
   ]
  },
  {
   "cell_type": "code",
   "execution_count": null,
   "id": "c9534830",
   "metadata": {
    "pycharm": {
     "name": "#%%\n"
    }
   },
   "outputs": [],
   "source": [
    "observation.make_look_set([bd527, natural, dcs])\n",
    "# looks, like raw images, are cached in a dict -- the bandset's 'looks' attribute.\n",
    "observation.looks.keys()"
   ]
  },
  {
   "cell_type": "code",
   "execution_count": null,
   "id": "3926d540",
   "metadata": {
    "pycharm": {
     "name": "#%%\n"
    }
   },
   "outputs": [],
   "source": [
    "# display these real quick\n",
    "def shew(things, **show_kwargs):\n",
    "    return [plt.figure().add_subplot().imshow(thing, **show_kwargs) for thing in things]\n",
    "\n",
    "shew(observation.looks.values())"
   ]
  },
  {
   "cell_type": "code",
   "execution_count": null,
   "id": "e3f7e2b6",
   "metadata": {
    "pycharm": {
     "name": "#%%\n"
    }
   },
   "outputs": [],
   "source": [
    "# mostly-shared pipeline for spectral parameter maps\n",
    "fancy_spect_defaults = gen_spectop_defaults(special_constants=[0])\n",
    "fancy_spect_defaults"
   ]
  },
  {
   "cell_type": "code",
   "execution_count": null,
   "id": "e7445482",
   "metadata": {
    "pycharm": {
     "name": "#%%\n"
    }
   },
   "outputs": [],
   "source": [
    "# individual parameter settings\n",
    "\n",
    "# 'look' is the name of a spectral parameter function from marslab.spectops, \n",
    "# a rendering function from marslab.imgops.render, or any callable with a \n",
    "# compatible signature\n",
    "mcam_spectop_looks = [\n",
    "    {'look': 'band_depth', 'bands': ('L2', 'L4', 'L1'), 'name':'bd527'},\n",
    "    {'look': 'band_depth', 'bands': ('R3', 'R6', 'R5'), 'name': 'bd827'},\n",
    "    {'look': 'ratio', 'bands': ('R6', 'R2'), 'name': 'r62'}\n",
    "]\n",
    "# inserting template here\n",
    "for look in mcam_spectop_looks:\n",
    "    look |= fancy_spect_defaults\n",
    "    \n",
    "# add differently-colored versions\n",
    "\n",
    "grays = [deepcopy(look) for look in mcam_spectop_looks]\n",
    "rainbows = [deepcopy(look) for look in mcam_spectop_looks]\n",
    "for colormap, colorlooks in zip(('Greys_r', 'jet_r'), (grays, rainbows)): \n",
    "    for colorlook in colorlooks:\n",
    "        colorlook['plotter']['params']['cmap'] = colormap\n",
    "        colorlook['name'] = colorlook['name'] + f' {colormap}'\n",
    "\n",
    "# create matplotlib figures from dcs\n",
    "dcs['plotter'] = {'function': simple_figure}\n",
    "# make an alternative dcs\n",
    "dcs_2 = deepcopy(dcs)\n",
    "dcs_2['params'] = {'sigma': 0.9, 'contrast_stretch': 0.3, 'special_constants': [0]}\n",
    "dcs_2['name'] = 'dcs_boring'\n",
    "stretchy = [dcs, dcs_2]\n",
    "\n",
    "# and similarly with natural and 'enhanced' color images\n",
    "natural['plotter'] = {'function': simple_figure}\n",
    "enhanced = deepcopy(natural)\n",
    "enhanced[\"name\"] = \"enhanced color l3l1l2\"\n",
    "enhanced['bands'] = (\"L3\", \"L1\", \"L2\")\n",
    "enhanced['prefilter']['params'] = {\"stretch\": (1.25, 1)}\n",
    "\n",
    "looks = mcam_spectop_looks + grays + rainbows + stretchy + [enhanced, natural]"
   ]
  },
  {
   "cell_type": "code",
   "execution_count": null,
   "id": "99cadd92",
   "metadata": {
    "pycharm": {
     "name": "#%%\n"
    }
   },
   "outputs": [],
   "source": [
    "[look['name'] for look in looks]"
   ]
  },
  {
   "cell_type": "code",
   "execution_count": null,
   "id": "1a4da8b6",
   "metadata": {
    "pycharm": {
     "name": "#%%\n"
    }
   },
   "outputs": [],
   "source": [
    "looks[3]"
   ]
  },
  {
   "cell_type": "code",
   "execution_count": null,
   "id": "ba8bece7",
   "metadata": {
    "pycharm": {
     "name": "#%%\n"
    }
   },
   "outputs": [],
   "source": [
    "observation.purge('looks')"
   ]
  },
  {
   "cell_type": "code",
   "execution_count": null,
   "id": "eeb89686",
   "metadata": {
    "pycharm": {
     "name": "#%%\n"
    }
   },
   "outputs": [],
   "source": [
    "# this supports multithreading, but it doesn't work well in a REPL environment,\n",
    "# so I'm not demonstrating it here.\n",
    "# observation.threads = {'look': 8}\n",
    "observation.make_look_set(looks)"
   ]
  },
  {
   "cell_type": "code",
   "execution_count": null,
   "id": "9b56444d",
   "metadata": {
    "pycharm": {
     "name": "#%%\n"
    }
   },
   "outputs": [],
   "source": [
    "observation.looks.keys()"
   ]
  },
  {
   "cell_type": "code",
   "execution_count": null,
   "id": "ca2d973a",
   "metadata": {
    "pycharm": {
     "name": "#%%\n"
    }
   },
   "outputs": [],
   "source": [
    "c()"
   ]
  },
  {
   "cell_type": "code",
   "execution_count": null,
   "id": "cb446f06",
   "metadata": {
    "pycharm": {
     "name": "#%%\n"
    }
   },
   "outputs": [],
   "source": [
    "tycho_uvvis = ClemBandSet('demos/data/clementine/uvvis_52s_005e.tif')\n",
    "tycho_uvvis.load('all')"
   ]
  },
  {
   "cell_type": "code",
   "execution_count": null,
   "id": "7238fcc5",
   "metadata": {
    "pycharm": {
     "name": "#%%\n"
    }
   },
   "outputs": [],
   "source": [
    "tycho_uvvis.metadata"
   ]
  },
  {
   "cell_type": "code",
   "execution_count": null,
   "id": "1386631f",
   "metadata": {
    "pycharm": {
     "name": "#%%\n"
    }
   },
   "outputs": [],
   "source": [
    "plt.imshow(np.clip(tycho_uvvis.get_band('C'), 0, 65536))"
   ]
  },
  {
   "cell_type": "code",
   "execution_count": null,
   "id": "da760634",
   "metadata": {
    "pycharm": {
     "name": "#%%\n"
    }
   },
   "outputs": [],
   "source": [
    "CLEM_SPECTOP_DEFAULTS = {\n",
    "    'params': {'special_constants': MOSAIC_SPECIAL_CONSTANTS},\n",
    "    \"limiter\": {\"function\": std_clip, \"params\":{'sigma': 2}},\n",
    "    \"postfilter\": {\"function\": gaussian_filter, \"params\": {\"sigma\": 1}},\n",
    "    \"plotter\": {\n",
    "        \"function\": colormapped_plot,\n",
    "        \"params\": {\n",
    "            \"cmap\": \"orange_teal\",\n",
    "            \"render_colorbar\": True,\n",
    "            \"special_constants\": MOSAIC_SPECIAL_CONSTANTS\n",
    "        },\n",
    "    },\n",
    "}"
   ]
  },
  {
   "cell_type": "code",
   "execution_count": null,
   "id": "553d86d8",
   "metadata": {
    "pycharm": {
     "name": "#%%\n"
    }
   },
   "outputs": [],
   "source": [
    "clem_spectops = (\n",
    "    {'name': 'rea', 'bands': ('E', 'A'), 'look': 'ratio'},\n",
    "    {'name': 'rcb', 'bands': ('C', 'B'), 'look': 'ratio'},\n",
    ")\n",
    "clem_stretches = [\n",
    "    {\n",
    "        \"name\": \"dcs bde\",\n",
    "        \"look\": \"dcs\",\n",
    "        \"params\": {\n",
    "            \"special_constants\": MOSAIC_SPECIAL_CONSTANTS, \n",
    "            \"contrast_stretch\": 1, \n",
    "            \"sigma\": None\n",
    "        },\n",
    "        \"plotter\": {\"function\": simple_figure},\n",
    "        \"bands\": (\"B\", \"D\", \"E\")\n",
    "}\n",
    "]\n",
    "fancy_spect_defaults = gen_spectop_defaults(special_constants=[0])\n",
    "\n",
    "clem_looks = [\n",
    "     gen_spectop_defaults(special_constants=MOSAIC_SPECIAL_CONSTANTS)\n",
    "    | look for look in clem_spectops\n",
    "] + clem_stretches"
   ]
  },
  {
   "cell_type": "code",
   "execution_count": null,
   "id": "6d9ccc1a",
   "metadata": {
    "pycharm": {
     "name": "#%%\n"
    }
   },
   "outputs": [],
   "source": [
    "c()"
   ]
  },
  {
   "cell_type": "code",
   "execution_count": null,
   "id": "3ed025fb",
   "metadata": {
    "pycharm": {
     "name": "#%%\n"
    }
   },
   "outputs": [],
   "source": [
    "tycho_uvvis.make_look_set(clem_looks)"
   ]
  },
  {
   "cell_type": "code",
   "execution_count": null,
   "id": "071c4664",
   "metadata": {
    "pycharm": {
     "name": "#%%\n"
    }
   },
   "outputs": [],
   "source": [
    "tycho_uvvis.save_looks('.')"
   ]
  },
  {
   "cell_type": "code",
   "execution_count": null,
   "id": "6b2a682d",
   "metadata": {
    "pycharm": {
     "name": "#%%\n"
    }
   },
   "outputs": [],
   "source": [
    "# ImageBands is intended for simple multiband operations on consumer\n",
    "# image formats. It uses pillow and takes the channel names of the colorspace as\n",
    "# the names of the spectral bands.\n",
    "eclipse = ImageBands('demos/data/pictures/Lunar_eclipse_al-Biruni.jpg')\n",
    "\n",
    "# add nominal wavelengths -- common band centers for consumer cameras\n",
    "consumer_bayer_waves = {'R': 596, 'G': 524, 'B': 458}\n",
    "eclipse.metadata['WAVELENGTH'] = consumer_bayer_waves.values()\n",
    "\n",
    "eclipse.metadata"
   ]
  },
  {
   "cell_type": "code",
   "execution_count": null,
   "id": "f1f2744b",
   "metadata": {
    "pycharm": {
     "name": "#%%\n"
    }
   },
   "outputs": [],
   "source": [
    "eclipse.load_method"
   ]
  },
  {
   "cell_type": "code",
   "execution_count": null,
   "id": "05b289e4",
   "metadata": {
    "pycharm": {
     "name": "#%%\n"
    }
   },
   "outputs": [],
   "source": [
    "shew(list(eclipse.raw.values()), cmap='Greys_r')"
   ]
  },
  {
   "cell_type": "code",
   "execution_count": null,
   "id": "9b258b4d",
   "metadata": {
    "pycharm": {
     "name": "#%%\n"
    }
   },
   "outputs": [],
   "source": [
    "c()"
   ]
  },
  {
   "cell_type": "code",
   "execution_count": null,
   "id": "6edb70dc",
   "metadata": {
    "pycharm": {
     "name": "#%%\n"
    }
   },
   "outputs": [],
   "source": [
    "ratio_rg_instruction = {\n",
    "    \"look\": \"ratio\",\n",
    "    \"special_constants\": [0],\n",
    "    # bands from the \n",
    "    \"bands\": (\"R\", \"G\"),\n",
    "    \"limiter\": {\"function\": std_clip, \"params\":{'sigma': 1}},\n",
    "    # a plotting function from marslab.imgops.render, or callable with a \n",
    "    #  compatible signature\n",
    "    \"plotter\": {\"function\": colormapped_plot, \"params\": {\"cmap\": \"orange_teal\"}}\n",
    "}"
   ]
  },
  {
   "cell_type": "code",
   "execution_count": null,
   "id": "f977ec0f",
   "metadata": {
    "pycharm": {
     "name": "#%%\n"
    }
   },
   "outputs": [],
   "source": [
    "ratio_rg = Look.compile_from_instruction(ratio_rg_instruction)\n",
    "ratio_rg"
   ]
  },
  {
   "cell_type": "code",
   "execution_count": null,
   "id": "fee074a0",
   "metadata": {
    "pycharm": {
     "name": "#%%\n"
    }
   },
   "outputs": [],
   "source": [
    "ratio_rg_plot = ratio_rg.execute(\n",
    "    [eclipse.raw[band] for band in ratio_rg_instruction['bands']],\n",
    ")"
   ]
  },
  {
   "cell_type": "code",
   "execution_count": null,
   "id": "7cf9272b",
   "metadata": {
    "pycharm": {
     "name": "#%%\n"
    }
   },
   "outputs": [],
   "source": [
    "# we can also cache every step of these pipelines.\n",
    "ratio_rg.add_capture('limiter')\n",
    "ratio_rg.execute(\n",
    "    [eclipse.raw[band] for band in ratio_rg_instruction['bands']],\n",
    ")\n"
   ]
  },
  {
   "cell_type": "code",
   "execution_count": null,
   "id": "567817c7",
   "metadata": {},
   "outputs": [],
   "source": [
    "ratio_rg.captures['limiter']\n"
   ]
  },
  {
   "cell_type": "code",
   "execution_count": null,
   "id": "2a522ffe",
   "metadata": {
    "pycharm": {
     "name": "#%%\n"
    }
   },
   "outputs": [],
   "source": [
    "plt.imshow(ratio_rg.captures['limiter'])"
   ]
  },
  {
   "cell_type": "code",
   "execution_count": null,
   "id": "8c024c77",
   "metadata": {
    "pycharm": {
     "name": "#%%\n"
    }
   },
   "outputs": [],
   "source": [
    "# or place callbacks in them.\n",
    "ratio_rg = Look.compile_from_instruction(ratio_rg_instruction)\n",
    "ratio_rg.add_send(plt.imshow, 'limiter')\n",
    "# ratio_rg.execute(\n",
    "#     [eclipse.raw[band] for band in ratio_rg_instruction['bands']],\n",
    "# )"
   ]
  },
  {
   "cell_type": "code",
   "execution_count": null,
   "id": "aec7193a",
   "metadata": {
    "pycharm": {
     "name": "#%%\n"
    }
   },
   "outputs": [],
   "source": [
    "# they can also be lazily evaluated.\n",
    "ratio_rg = Look.compile_from_instruction(ratio_rg_instruction)\n",
    "ratio_rg_stepper = ratio_rg.itercall(\n",
    "    [\n",
    "        eclipse.raw[band] for band in ratio_rg_instruction['bands']\n",
    "    ]\n",
    ")"
   ]
  },
  {
   "cell_type": "code",
   "execution_count": null,
   "id": "36b684ba",
   "metadata": {
    "pycharm": {
     "name": "#%%\n"
    }
   },
   "outputs": [],
   "source": [
    "ratio_rg_stepper"
   ]
  },
  {
   "cell_type": "code",
   "execution_count": null,
   "id": "d665bfd4",
   "metadata": {
    "pycharm": {
     "name": "#%%\n"
    }
   },
   "outputs": [],
   "source": [
    "next(ratio_rg_stepper)"
   ]
  },
  {
   "cell_type": "code",
   "execution_count": null,
   "id": "3a2d6310",
   "metadata": {
    "pycharm": {
     "name": "#%%\n"
    }
   },
   "outputs": [],
   "source": [
    "x, y = np.meshgrid(np.arange(128), np.arange(128))\n",
    "weight = np.sqrt((64 - x) ** 2 + (32 - y) ** 2)\n",
    "normal = rng.normal(128, 30, (128, 128)) * (90 - weight)\n",
    "plt.imshow(normal)"
   ]
  },
  {
   "cell_type": "code",
   "execution_count": null,
   "id": "d6882c0f",
   "metadata": {},
   "outputs": [],
   "source": [
    "normal"
   ]
  },
  {
   "cell_type": "code",
   "execution_count": null,
   "id": "bab16617",
   "metadata": {
    "pycharm": {
     "name": "#%%\n"
    }
   },
   "outputs": [],
   "source": [
    "tile_display = Composition({\n",
    "    'tile': np.tile,\n",
    "    'mirror_horizontal': np.fliplr,\n",
    "    'plot': plt.imshow\n",
    "})"
   ]
  },
  {
   "cell_type": "code",
   "execution_count": null,
   "id": "7fc3c5fd",
   "metadata": {
    "pycharm": {
     "name": "#%%\n"
    }
   },
   "outputs": [],
   "source": [
    "# this won't work: np.tile lacks a required positional argument \n",
    "tile_display.execute(normal)"
   ]
  },
  {
   "cell_type": "code",
   "execution_count": null,
   "id": "67235203",
   "metadata": {
    "pycharm": {
     "name": "#%%\n"
    }
   },
   "outputs": [],
   "source": [
    "# however, we can bind arguments to these objects after initialization\n",
    "comps = {n: deepcopy(tile_display) for n in range(1, 11)}\n",
    "for comp_ix, comp in comps.items():\n",
    "    if comp_ix % 2 == 0:\n",
    "        comp.bind_kwargs('tile', reps=(comp_ix, 2))\n",
    "    else:\n",
    "        comp.bind_kwargs('tile', reps=(2, comp_ix))\n",
    "    if comp_ix % 3 == 0:\n",
    "        comp.bind_kwargs('plot', cmap='orange_teal')\n",
    "    else:\n",
    "        comp.bind_kwargs('plot', cmap='viridis')\n",
    "        \n",
    "for comp in comps.values():\n",
    "    comp.add_trigger(plt.figure,'tile')\n",
    "    comp.add_trigger(plt.colorbar, 'plot')\n",
    "    \n",
    "itercomps = iter(comps.values())"
   ]
  },
  {
   "cell_type": "code",
   "execution_count": null,
   "id": "fe4938fa",
   "metadata": {
    "pycharm": {
     "name": "#%%\n"
    }
   },
   "outputs": [],
   "source": [
    "next(itercomps).execute(normal)"
   ]
  },
  {
   "cell_type": "code",
   "execution_count": null,
   "id": "8e56c14a",
   "metadata": {
    "pycharm": {
     "name": "#%%\n"
    }
   },
   "outputs": [],
   "source": [
    "c()"
   ]
  },
  {
   "cell_type": "code",
   "execution_count": null,
   "id": "a6a3ced0",
   "metadata": {
    "pycharm": {
     "name": "#%%\n"
    }
   },
   "outputs": [],
   "source": [
    "arithmetic = Composition([add, mul])\n",
    "arithmetic.add_insert(None, 0)\n",
    "arithmetic.add_insert(None, 1)\n",
    "# args can be inserted at execution time -- this can also be used as a hack\n",
    "# to partially apply arguments to functions with positional-only arguments\n",
    "arithmetic.execute(1, 1, 2)"
   ]
  },
  {
   "cell_type": "code",
   "execution_count": null,
   "id": "fc1c5473",
   "metadata": {
    "pycharm": {
     "name": "#%%\n"
    }
   },
   "outputs": [],
   "source": [
    "def head(fn, size):\n",
    "    with open(fn) as file:\n",
    "        return file.read(size)\n",
    "    \n",
    "sed = Composition({\n",
    "    'head': head,\n",
    "    'replace': re.sub,\n",
    "    'cat': print\n",
    "})\n",
    "\n",
    "sed.bind_args('head', size=100)\n",
    "sed.bind_args(\n",
    "    'replace', \n",
    "    '.*import.*', \n",
    "    'raise ValueError(\"dependencies are forbidden\")',\n",
    ")\n",
    "sed.add_send(print, 'head')\n",
    "sed.execute('tests/test_bandset.py')"
   ]
  },
  {
   "cell_type": "code",
   "execution_count": null,
   "id": "b1a55136",
   "metadata": {
    "pycharm": {
     "name": "#%%\n"
    }
   },
   "outputs": [],
   "source": [
    "sed.bind_args(\n",
    "    'replace', \n",
    "    '.*import.*', \n",
    "    'import marslab',\n",
    "    flags=re.M+re.DOTALL,\n",
    "    rebind=True\n",
    ")\n",
    "sed.execute('tests/test_bandset.py')"
   ]
  }
 ],
 "metadata": {
  "kernelspec": {
   "display_name": "Python 3 (ipykernel)",
   "language": "python",
   "name": "python3"
  },
  "language_info": {
   "codemirror_mode": {
    "name": "ipython",
    "version": 3
   },
   "file_extension": ".py",
   "mimetype": "text/x-python",
   "name": "python",
   "nbconvert_exporter": "python",
   "pygments_lexer": "ipython3",
   "version": "3.9.6"
  }
 },
 "nbformat": 4,
 "nbformat_minor": 5
}